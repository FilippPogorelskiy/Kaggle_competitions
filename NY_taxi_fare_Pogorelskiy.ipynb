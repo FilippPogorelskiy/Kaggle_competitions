{
 "cells": [
  {
   "cell_type": "code",
   "execution_count": 226,
   "metadata": {},
   "outputs": [],
   "source": [
    "import pandas as pd\n",
    "import numpy as np\n",
    "import matplotlib.pyplot as plt\n",
    "import seaborn as sns\n",
    "import math\n",
    "from sklearn.model_selection import train_test_split\n",
    "%matplotlib inline"
   ]
  },
  {
   "cell_type": "code",
   "execution_count": 227,
   "metadata": {},
   "outputs": [],
   "source": [
    "taxi_train_data = pd.read_csv('train.csv', nrows = 10000000)"
   ]
  },
  {
   "cell_type": "code",
   "execution_count": 228,
   "metadata": {},
   "outputs": [],
   "source": [
    "#taxi_train_data.head()"
   ]
  },
  {
   "cell_type": "code",
   "execution_count": 229,
   "metadata": {},
   "outputs": [
    {
     "data": {
      "text/plain": [
       "(10000000, 8)"
      ]
     },
     "execution_count": 229,
     "metadata": {},
     "output_type": "execute_result"
    }
   ],
   "source": [
    "taxi_train_data.shape"
   ]
  },
  {
   "cell_type": "code",
   "execution_count": 260,
   "metadata": {},
   "outputs": [
    {
     "name": "stdout",
     "output_type": "stream",
     "text": [
      "<class 'pandas.core.frame.DataFrame'>\n",
      "Int64Index: 9761862 entries, 0 to 9999999\n",
      "Data columns (total 11 columns):\n",
      " #   Column             Dtype  \n",
      "---  ------             -----  \n",
      " 0   key                object \n",
      " 1   fare_amount        float64\n",
      " 2   pickup_datetime    object \n",
      " 3   pickup_longitude   float64\n",
      " 4   pickup_latitude    float64\n",
      " 5   dropoff_longitude  float64\n",
      " 6   dropoff_latitude   float64\n",
      " 7   passenger_count    int64  \n",
      " 8   pickup_time        int64  \n",
      " 9   pickup_weekday     int64  \n",
      " 10  pickup_month       int64  \n",
      "dtypes: float64(5), int64(4), object(2)\n",
      "memory usage: 893.7+ MB\n"
     ]
    }
   ],
   "source": [
    "taxi_train_data.info()"
   ]
  },
  {
   "cell_type": "code",
   "execution_count": 261,
   "metadata": {},
   "outputs": [],
   "source": [
    "taxi_test_data = pd.read_csv('test.csv')"
   ]
  },
  {
   "cell_type": "code",
   "execution_count": 32,
   "metadata": {},
   "outputs": [],
   "source": [
    "#taxi_test_data.head()"
   ]
  },
  {
   "cell_type": "code",
   "execution_count": 231,
   "metadata": {},
   "outputs": [
    {
     "data": {
      "text/plain": [
       "(9914, 19)"
      ]
     },
     "execution_count": 231,
     "metadata": {},
     "output_type": "execute_result"
    }
   ],
   "source": [
    "taxi_test_data.shape"
   ]
  },
  {
   "cell_type": "code",
   "execution_count": 232,
   "metadata": {},
   "outputs": [
    {
     "name": "stdout",
     "output_type": "stream",
     "text": [
      "<class 'pandas.core.frame.DataFrame'>\n",
      "RangeIndex: 9914 entries, 0 to 9913\n",
      "Data columns (total 19 columns):\n",
      " #   Column           Non-Null Count  Dtype  \n",
      "---  ------           --------------  -----  \n",
      " 0   Unnamed: 0       9914 non-null   int64  \n",
      " 1   key              9914 non-null   object \n",
      " 2   passenger_count  9914 non-null   int64  \n",
      " 3   pickup_time      9914 non-null   int64  \n",
      " 4   pickup_month     9914 non-null   int64  \n",
      " 5   pickup_lga       9914 non-null   float64\n",
      " 6   dropoff_lga      9914 non-null   float64\n",
      " 7   pickup_jfk       9914 non-null   float64\n",
      " 8   dropoff_jfk      9914 non-null   float64\n",
      " 9   pickup_ewr       9914 non-null   float64\n",
      " 10  dropoff_ewr      9914 non-null   float64\n",
      " 11  distance         9914 non-null   float64\n",
      " 12  Friday           9914 non-null   int64  \n",
      " 13  Monday           9914 non-null   int64  \n",
      " 14  Saturday         9914 non-null   int64  \n",
      " 15  Sunday           9914 non-null   int64  \n",
      " 16  Thursday         9914 non-null   int64  \n",
      " 17  Tuesday          9914 non-null   int64  \n",
      " 18  Wednesday        9914 non-null   int64  \n",
      "dtypes: float64(7), int64(11), object(1)\n",
      "memory usage: 1.4+ MB\n"
     ]
    }
   ],
   "source": [
    "taxi_test_data.info()"
   ]
  },
  {
   "cell_type": "code",
   "execution_count": 233,
   "metadata": {},
   "outputs": [],
   "source": [
    "def diff_long_lat(data):\n",
    "    data['Diff_long'] = np.abs(data['pickup_longitude'] - data['dropoff_longitude'])\n",
    "    data['Diff_lat'] = np.abs(data['pickup_latitude'] - data['dropoff_latitude'])\n",
    "\n",
    "diff_long_lat(taxi_train_data)\n",
    "#diff_long_lat(taxi_test_data)"
   ]
  },
  {
   "cell_type": "code",
   "execution_count": 235,
   "metadata": {},
   "outputs": [
    {
     "data": {
      "text/plain": [
       "(0.0, 5.0)"
      ]
     },
     "execution_count": 235,
     "metadata": {},
     "output_type": "execute_result"
    },
    {
     "data": {
      "image/png": "[encoded data removed]",
      "text/plain": [
       "<Figure size 432x288 with 1 Axes>"
      ]
     },
     "metadata": {},
     "output_type": "display_data"
    }
   ],
   "source": [
    "plt.scatter(taxi_train_data['Diff_long'][:25000].values, taxi_train_data['Diff_lat'][:25000].values)\n",
    "plt.xlim(0, 5)\n",
    "plt.ylim(0, 5)"
   ]
  },
  {
   "cell_type": "code",
   "execution_count": 237,
   "metadata": {},
   "outputs": [
    {
     "data": {
      "text/plain": [
       "<matplotlib.collections.PathCollection at 0x1ef26267278>"
      ]
     },
     "execution_count": 237,
     "metadata": {},
     "output_type": "execute_result"
    },
    {
     "data": {
      "image/png": "[encoded data removed]",
      "text/plain": [
       "<Figure size 432x288 with 1 Axes>"
      ]
     },
     "metadata": {},
     "output_type": "display_data"
    }
   ],
   "source": [
    "plt.scatter(taxi_train_data['passenger_count'][:25000].values, taxi_train_data['fare_amount'][:25000].values)"
   ]
  },
  {
   "cell_type": "code",
   "execution_count": 248,
   "metadata": {},
   "outputs": [
    {
     "name": "stdout",
     "output_type": "stream",
     "text": [
      "Мин. количество пассажиров: 0\n",
      "Макс. количество пассажиров: 208\n"
     ]
    }
   ],
   "source": [
    "print(f'Мин. количество пассажиров: {min(taxi_train_data[\"passenger_count\"])}')\n",
    "print(f'Макс. количество пассажиров: {max(taxi_train_data[\"passenger_count\"])}')"
   ]
  },
  {
   "cell_type": "code",
   "execution_count": 249,
   "metadata": {},
   "outputs": [
    {
     "name": "stdout",
     "output_type": "stream",
     "text": [
      "Количество записей до удаления нулевых значений:10000000\n",
      "Количество записей после удаления нулевых значений:9999931\n"
     ]
    }
   ],
   "source": [
    "print(f'Количество записей до удаления нулевых значений:{len(taxi_train_data)}')\n",
    "taxi_train_data.dropna(inplace=True)\n",
    "print(f'Количество записей после удаления нулевых значений:{len(taxi_train_data)}')"
   ]
  },
  {
   "cell_type": "code",
   "execution_count": 251,
   "metadata": {},
   "outputs": [
    {
     "name": "stdout",
     "output_type": "stream",
     "text": [
      "Количество записей до удаления выбросов во количеству пассажиров:9999931\n",
      "Количество записей после удаления выбросов во количеству пассажиров:9964651\n"
     ]
    }
   ],
   "source": [
    "print(f'Количество записей до удаления выбросов во количеству пассажиров:{len(taxi_train_data)}')\n",
    "taxi_train_data = taxi_train_data.drop(taxi_train_data.loc[(taxi_train_data['passenger_count']>=7) |\n",
    "                                                          (taxi_train_data['passenger_count'] == 0)].index)\n",
    "print(f'Количество записей после удаления выбросов во количеству пассажиров:{len(taxi_train_data)}')"
   ]
  },
  {
   "cell_type": "code",
   "execution_count": 252,
   "metadata": {},
   "outputs": [
    {
     "name": "stdout",
     "output_type": "stream",
     "text": [
      "Количество записей до удаления выбросов по координатам:9964651\n",
      "Количество записей после удаления выбросов по координатам:9944158\n"
     ]
    }
   ],
   "source": [
    "print(f'Количество записей до удаления выбросов по координатам:{len(taxi_train_data)}')\n",
    "taxi_train_data = taxi_train_data.drop(taxi_train_data.loc[(taxi_train_data['Diff_long'] >= 5) | \n",
    "                                                           (taxi_train_data['Diff_lat'] >= 5)].index)\n",
    "print(f'Количество записей после удаления выбросов по координатам:{len(taxi_train_data)}')"
   ]
  },
  {
   "cell_type": "code",
   "execution_count": 253,
   "metadata": {},
   "outputs": [
    {
     "name": "stdout",
     "output_type": "stream",
     "text": [
      "Количество записей до удаления выбросов по координатам:9944158\n",
      "Количество записей после удаления выбросов по координатам:9763293\n"
     ]
    }
   ],
   "source": [
    "print(f'Количество записей до удаления выбросов по координатам:{len(taxi_train_data)}')\n",
    "taxi_train_data = taxi_train_data.drop(taxi_train_data.loc[(taxi_train_data['pickup_longitude'] == 0) | \n",
    "                                                           (taxi_train_data['pickup_latitude'] == 0) |\n",
    "                                                          (taxi_train_data['dropoff_longitude'] == 0) |\n",
    "                                                          (taxi_train_data['dropoff_latitude'] == 0)].index)\n",
    "print(f'Количество записей после удаления выбросов по координатам:{len(taxi_train_data)}')"
   ]
  },
  {
   "cell_type": "code",
   "execution_count": 254,
   "metadata": {},
   "outputs": [
    {
     "name": "stdout",
     "output_type": "stream",
     "text": [
      "Количество записей до удаления отрицательных и нулевых значений стоимости:9763293\n",
      "Количество записей после удаления отрицательных и нулевых значений стоимости:9762694\n"
     ]
    }
   ],
   "source": [
    "print(f'Количество записей до удаления отрицательных и нулевых значений стоимости:{len(taxi_train_data)}')\n",
    "taxi_train_data = taxi_train_data.drop(taxi_train_data.loc[(taxi_train_data['fare_amount'] <= 0)].index)\n",
    "print(f'Количество записей после удаления отрицательных и нулевых значений стоимости:{len(taxi_train_data)}')"
   ]
  },
  {
   "cell_type": "code",
   "execution_count": 255,
   "metadata": {},
   "outputs": [
    {
     "name": "stdout",
     "output_type": "stream",
     "text": [
      "Количество записей после удаления высокой стоимости:9762694\n",
      "Количество записей после удаления высокой стоимости:9761862\n"
     ]
    }
   ],
   "source": [
    "print(f'Количество записей после удаления высокой стоимости:{len(taxi_train_data)}')\n",
    "taxi_train_data = taxi_train_data.drop(taxi_train_data.loc[(taxi_train_data['fare_amount'] > 150)].index)\n",
    "print(f'Количество записей после удаления высокой стоимости:{len(taxi_train_data)}')"
   ]
  },
  {
   "cell_type": "code",
   "execution_count": 256,
   "metadata": {},
   "outputs": [],
   "source": [
    "taxi_train_data.drop('Diff_long', axis = 1, inplace = True)\n",
    "taxi_train_data.drop('Diff_lat', axis = 1, inplace = True)"
   ]
  },
  {
   "cell_type": "code",
   "execution_count": 257,
   "metadata": {},
   "outputs": [],
   "source": [
    "#Вытащим из даты время, час и день недели\n",
    "def get_pickup_time(data):\n",
    "    time_list = list(data['pickup_datetime'])\n",
    "    #hour_list = list()\n",
    "    weekday_list = list()\n",
    "    month_list = list()\n",
    "    for i in range(len(time_list)):\n",
    "        #hour_list.append(int(time_list[i][11:-7:][:-3]))\n",
    "        month_list.append(int(time_list[i][5:7:]))\n",
    "        weekday_list.append(pd.Timestamp(time_list[i][:-4]).weekday())\n",
    "        time_list[i] = int(time_list[i][11:-7:].replace(':', ''))\n",
    "    data['pickup_time'] = time_list\n",
    "    #data['pickup_hour'] = hour_list\n",
    "    data['pickup_weekday'] = weekday_list\n",
    "    data['pickup_month'] = month_list"
   ]
  },
  {
   "cell_type": "code",
   "execution_count": 262,
   "metadata": {},
   "outputs": [],
   "source": [
    "get_pickup_time(taxi_train_data)\n",
    "get_pickup_time(taxi_test_data)"
   ]
  },
  {
   "cell_type": "code",
   "execution_count": 263,
   "metadata": {},
   "outputs": [],
   "source": [
    "#Из номеров дней недели в имена дней недели\n",
    "def num_weekday_to_name(data):\n",
    "    data['pickup_weekday'] = data['pickup_weekday'].map({0 : 'Monday',\n",
    "                                                         1 : 'Tuesday',\n",
    "                                                         2 : 'Wednesday',\n",
    "                                                         3 : 'Thursday',\n",
    "                                                         4 : 'Friday',\n",
    "                                                         5 : 'Saturday',\n",
    "                                                         6 : 'Sunday'})"
   ]
  },
  {
   "cell_type": "code",
   "execution_count": 264,
   "metadata": {},
   "outputs": [],
   "source": [
    "num_weekday_to_name(taxi_train_data)\n",
    "num_weekday_to_name(taxi_test_data)"
   ]
  },
  {
   "cell_type": "code",
   "execution_count": 265,
   "metadata": {},
   "outputs": [],
   "source": [
    "# Функция для рассчета расстояния между координатами посадки и высадки\n",
    "def distance_count(data):\n",
    "    earth_rad = 6372.795\n",
    "    pickup_lat = np.asarray(np.radians(data['pickup_latitude']))\n",
    "    dropoff_lat = np.asarray(np.radians(data['dropoff_latitude']))\n",
    "    pickup_long = np.asarray(np.radians(data['pickup_longitude']))\n",
    "    dropoff_long = np.asarray(np.radians(data['dropoff_longitude']))\n",
    "    lat_rad_diff = dropoff_lat - pickup_lat\n",
    "    long_rad_diff = dropoff_long - pickup_long\n",
    "    temp_val = (np.sin(lat_rad_diff/2)**2 + np.cos(pickup_lat) * np.cos(dropoff_lat) * np.sin(long_rad_diff/2)**2)\n",
    "    data['distance'] = np.round((earth_rad * (2 * np.arctan2(np.sqrt(temp_val), np.sqrt(1 - temp_val)))), 2)"
   ]
  },
  {
   "cell_type": "code",
   "execution_count": 266,
   "metadata": {},
   "outputs": [],
   "source": [
    "# Функция для рассчета расстояния между координатами посадки и высадки и координатами аэропорта\n",
    "def airport_distance_count(lat1, long1, air_lat, air_long):\n",
    "    dist_list = list()\n",
    "    earth_rad = 6372.795\n",
    "    pickup_lat = np.asarray(np.radians(lat1))\n",
    "    dropoff_lat = np.asarray(np.radians(air_lat))\n",
    "    pickup_long = np.asarray(np.radians(long1))\n",
    "    dropoff_long = np.asarray(np.radians(air_long))\n",
    "    for i in range(len(pickup_lat)):\n",
    "        lat_rad_diff = dropoff_lat - pickup_lat[i]\n",
    "        long_rad_diff = dropoff_long - pickup_long[i]\n",
    "        temp_val = (np.sin(lat_rad_diff/2)**2 + np.cos(pickup_lat[i]) * np.cos(dropoff_lat) * np.sin(long_rad_diff/2)**2)\n",
    "        distance = np.round((earth_rad * (2 * np.arctan2(np.sqrt(temp_val), np.sqrt(1 - temp_val)))), 2)\n",
    "        dist_list.append(distance)\n",
    "    return dist_list"
   ]
  },
  {
   "cell_type": "code",
   "execution_count": 267,
   "metadata": {},
   "outputs": [],
   "source": [
    "lga = (-73.52, 40.46) #LaGuardia Airport\n",
    "jfk = (-73.46, 40.38) #John F Kennedy International\n",
    "ewr = (-74.1, 40.41) #Newark Liberty International Airport"
   ]
  },
  {
   "cell_type": "code",
   "execution_count": 268,
   "metadata": {},
   "outputs": [],
   "source": [
    "# Рассчитаем расстояния между точками подбора и точками аэропорта_ в обучающей выборке\n",
    "taxi_train_data['pickup_lga'] = airport_distance_count(taxi_train_data['pickup_latitude'], \n",
    "                                                       taxi_train_data['pickup_longitude'],\n",
    "                                                      lga[1], lga[0])\n",
    "taxi_train_data['dropoff_lga'] = airport_distance_count(taxi_train_data['dropoff_latitude'], \n",
    "                                                       taxi_train_data['dropoff_longitude'],\n",
    "                                                      nyc[1], nyc[0])\n",
    "taxi_train_data['pickup_jfk'] = airport_distance_count(taxi_train_data['pickup_latitude'], \n",
    "                                                       taxi_train_data['pickup_longitude'],\n",
    "                                                      jfk[1], jfk[0])\n",
    "taxi_train_data['dropoff_jfk'] = airport_distance_count(taxi_train_data['dropoff_latitude'], \n",
    "                                                       taxi_train_data['dropoff_longitude'],\n",
    "                                                      jfk[1], jfk[0])\n",
    "taxi_train_data['pickup_ewr'] = airport_distance_count(taxi_train_data['pickup_latitude'], \n",
    "                                                       taxi_train_data['pickup_longitude'],\n",
    "                                                      ewr[1], ewr[0])\n",
    "taxi_train_data['dropoff_ewr'] = airport_distance_count(taxi_train_data['dropoff_latitude'], \n",
    "                                                       taxi_train_data['dropoff_longitude'],\n",
    "                                                      ewr[1], ewr[0])\n"
   ]
  },
  {
   "cell_type": "code",
   "execution_count": 269,
   "metadata": {},
   "outputs": [],
   "source": [
    "# Рассчитаем расстояния между точками подбора и точками аэропорта_ в тестовой выборке\n",
    "taxi_test_data['pickup_lga'] = airport_distance_count(taxi_test_data['pickup_latitude'], \n",
    "                                                       taxi_test_data['pickup_longitude'],\n",
    "                                                      lga[1], lga[0])\n",
    "taxi_test_data['dropoff_lga'] = airport_distance_count(taxi_test_data['dropoff_latitude'], \n",
    "                                                       taxi_test_data['dropoff_longitude'],\n",
    "                                                      nyc[1], nyc[0])\n",
    "taxi_test_data['pickup_jfk'] = airport_distance_count(taxi_test_data['pickup_latitude'], \n",
    "                                                       taxi_test_data['pickup_longitude'],\n",
    "                                                      jfk[1], jfk[0])\n",
    "taxi_test_data['dropoff_jfk'] = airport_distance_count(taxi_test_data['dropoff_latitude'], \n",
    "                                                       taxi_test_data['dropoff_longitude'],\n",
    "                                                      jfk[1], jfk[0])\n",
    "taxi_test_data['pickup_ewr'] = airport_distance_count(taxi_test_data['pickup_latitude'], \n",
    "                                                       taxi_test_data['pickup_longitude'],\n",
    "                                                      ewr[1], ewr[0])\n",
    "taxi_test_data['dropoff_ewr'] = airport_distance_count(taxi_test_data['dropoff_latitude'], \n",
    "                                                       taxi_test_data['dropoff_longitude'],\n",
    "                                                      ewr[1], ewr[0])"
   ]
  },
  {
   "cell_type": "code",
   "execution_count": 270,
   "metadata": {},
   "outputs": [],
   "source": [
    "# Рассчитаем расстояния между координатами посадки и высадки\n",
    "distance_count(taxi_train_data)\n",
    "distance_count(taxi_test_data)"
   ]
  },
  {
   "cell_type": "code",
   "execution_count": 271,
   "metadata": {},
   "outputs": [],
   "source": [
    "#Переведем категориальный в числовой с днями недели\n",
    "train_one_hot_encode = pd.get_dummies(taxi_train_data['pickup_weekday'])\n",
    "taxi_train_data = pd.concat([taxi_train_data, train_one_hot_encode], axis = 1)"
   ]
  },
  {
   "cell_type": "code",
   "execution_count": 272,
   "metadata": {},
   "outputs": [],
   "source": [
    "test_one_hot_encode = pd.get_dummies(taxi_test_data['pickup_weekday'])\n",
    "taxi_test_data = pd.concat([taxi_test_data, test_one_hot_encode], axis = 1)"
   ]
  },
  {
   "cell_type": "code",
   "execution_count": 273,
   "metadata": {},
   "outputs": [],
   "source": [
    "taxi_train_data.drop(['pickup_weekday', \n",
    "                      'pickup_datetime', \n",
    "                      'pickup_longitude', \n",
    "                      'pickup_latitude', \n",
    "                      'dropoff_longitude', \n",
    "                      'dropoff_latitude'], axis = 1, inplace = True)\n",
    "taxi_test_data.drop(['pickup_weekday', \n",
    "                     'pickup_datetime', \n",
    "                     'pickup_longitude', \n",
    "                     'pickup_latitude', \n",
    "                     'dropoff_longitude',\n",
    "                     'dropoff_latitude'], axis = 1, inplace = True)"
   ]
  },
  {
   "cell_type": "code",
   "execution_count": 274,
   "metadata": {},
   "outputs": [
    {
     "data": {
      "text/plain": [
       "0"
      ]
     },
     "execution_count": 274,
     "metadata": {},
     "output_type": "execute_result"
    }
   ],
   "source": [
    "len(taxi_train_data[taxi_train_data['fare_amount']>150])"
   ]
  },
  {
   "cell_type": "code",
   "execution_count": 275,
   "metadata": {},
   "outputs": [
    {
     "data": {
      "text/html": [
       "<div>\n",
       "<style scoped>\n",
       "    .dataframe tbody tr th:only-of-type {\n",
       "        vertical-align: middle;\n",
       "    }\n",
       "\n",
       "    .dataframe tbody tr th {\n",
       "        vertical-align: top;\n",
       "    }\n",
       "\n",
       "    .dataframe thead th {\n",
       "        text-align: right;\n",
       "    }\n",
       "</style>\n",
       "<table border=\"1\" class=\"dataframe\">\n",
       "  <thead>\n",
       "    <tr style=\"text-align: right;\">\n",
       "      <th></th>\n",
       "      <th>key</th>\n",
       "      <th>fare_amount</th>\n",
       "      <th>passenger_count</th>\n",
       "      <th>pickup_time</th>\n",
       "      <th>pickup_month</th>\n",
       "      <th>pickup_lga</th>\n",
       "      <th>dropoff_lga</th>\n",
       "      <th>pickup_jfk</th>\n",
       "      <th>dropoff_jfk</th>\n",
       "      <th>pickup_ewr</th>\n",
       "      <th>dropoff_ewr</th>\n",
       "      <th>distance</th>\n",
       "      <th>Friday</th>\n",
       "      <th>Monday</th>\n",
       "      <th>Saturday</th>\n",
       "      <th>Sunday</th>\n",
       "      <th>Thursday</th>\n",
       "      <th>Tuesday</th>\n",
       "      <th>Wednesday</th>\n",
       "    </tr>\n",
       "  </thead>\n",
       "  <tbody>\n",
       "    <tr>\n",
       "      <th>0</th>\n",
       "      <td>2009-06-15 17:26:21.0000001</td>\n",
       "      <td>4.5</td>\n",
       "      <td>1</td>\n",
       "      <td>1726</td>\n",
       "      <td>6</td>\n",
       "      <td>39.94</td>\n",
       "      <td>13.89</td>\n",
       "      <td>49.96</td>\n",
       "      <td>49.05</td>\n",
       "      <td>40.81</td>\n",
       "      <td>40.09</td>\n",
       "      <td>1.03</td>\n",
       "      <td>0</td>\n",
       "      <td>1</td>\n",
       "      <td>0</td>\n",
       "      <td>0</td>\n",
       "      <td>0</td>\n",
       "      <td>0</td>\n",
       "      <td>0</td>\n",
       "    </tr>\n",
       "    <tr>\n",
       "      <th>1</th>\n",
       "      <td>2010-01-05 16:52:16.0000002</td>\n",
       "      <td>16.9</td>\n",
       "      <td>1</td>\n",
       "      <td>1652</td>\n",
       "      <td>1</td>\n",
       "      <td>50.37</td>\n",
       "      <td>7.88</td>\n",
       "      <td>59.72</td>\n",
       "      <td>62.64</td>\n",
       "      <td>34.26</td>\n",
       "      <td>42.61</td>\n",
       "      <td>8.45</td>\n",
       "      <td>0</td>\n",
       "      <td>0</td>\n",
       "      <td>0</td>\n",
       "      <td>0</td>\n",
       "      <td>0</td>\n",
       "      <td>1</td>\n",
       "      <td>0</td>\n",
       "    </tr>\n",
       "    <tr>\n",
       "      <th>2</th>\n",
       "      <td>2011-08-18 00:35:00.00000049</td>\n",
       "      <td>5.7</td>\n",
       "      <td>2</td>\n",
       "      <td>35</td>\n",
       "      <td>8</td>\n",
       "      <td>51.47</td>\n",
       "      <td>4.24</td>\n",
       "      <td>61.23</td>\n",
       "      <td>60.94</td>\n",
       "      <td>40.31</td>\n",
       "      <td>38.98</td>\n",
       "      <td>1.39</td>\n",
       "      <td>0</td>\n",
       "      <td>0</td>\n",
       "      <td>0</td>\n",
       "      <td>0</td>\n",
       "      <td>1</td>\n",
       "      <td>0</td>\n",
       "      <td>0</td>\n",
       "    </tr>\n",
       "    <tr>\n",
       "      <th>3</th>\n",
       "      <td>2012-04-21 04:30:42.0000001</td>\n",
       "      <td>7.7</td>\n",
       "      <td>1</td>\n",
       "      <td>430</td>\n",
       "      <td>4</td>\n",
       "      <td>49.79</td>\n",
       "      <td>5.04</td>\n",
       "      <td>59.39</td>\n",
       "      <td>61.53</td>\n",
       "      <td>37.19</td>\n",
       "      <td>39.79</td>\n",
       "      <td>2.80</td>\n",
       "      <td>0</td>\n",
       "      <td>0</td>\n",
       "      <td>1</td>\n",
       "      <td>0</td>\n",
       "      <td>0</td>\n",
       "      <td>0</td>\n",
       "      <td>0</td>\n",
       "    </tr>\n",
       "    <tr>\n",
       "      <th>4</th>\n",
       "      <td>2010-03-09 07:51:00.000000135</td>\n",
       "      <td>5.3</td>\n",
       "      <td>1</td>\n",
       "      <td>751</td>\n",
       "      <td>3</td>\n",
       "      <td>51.04</td>\n",
       "      <td>8.80</td>\n",
       "      <td>60.87</td>\n",
       "      <td>61.46</td>\n",
       "      <td>41.35</td>\n",
       "      <td>43.30</td>\n",
       "      <td>2.00</td>\n",
       "      <td>0</td>\n",
       "      <td>0</td>\n",
       "      <td>0</td>\n",
       "      <td>0</td>\n",
       "      <td>0</td>\n",
       "      <td>1</td>\n",
       "      <td>0</td>\n",
       "    </tr>\n",
       "  </tbody>\n",
       "</table>\n",
       "</div>"
      ],
      "text/plain": [
       "                             key  fare_amount  passenger_count  pickup_time  \\\n",
       "0    2009-06-15 17:26:21.0000001          4.5                1         1726   \n",
       "1    2010-01-05 16:52:16.0000002         16.9                1         1652   \n",
       "2   2011-08-18 00:35:00.00000049          5.7                2           35   \n",
       "3    2012-04-21 04:30:42.0000001          7.7                1          430   \n",
       "4  2010-03-09 07:51:00.000000135          5.3                1          751   \n",
       "\n",
       "   pickup_month  pickup_lga  dropoff_lga  pickup_jfk  dropoff_jfk  pickup_ewr  \\\n",
       "0             6       39.94        13.89       49.96        49.05       40.81   \n",
       "1             1       50.37         7.88       59.72        62.64       34.26   \n",
       "2             8       51.47         4.24       61.23        60.94       40.31   \n",
       "3             4       49.79         5.04       59.39        61.53       37.19   \n",
       "4             3       51.04         8.80       60.87        61.46       41.35   \n",
       "\n",
       "   dropoff_ewr  distance  Friday  Monday  Saturday  Sunday  Thursday  Tuesday  \\\n",
       "0        40.09      1.03       0       1         0       0         0        0   \n",
       "1        42.61      8.45       0       0         0       0         0        1   \n",
       "2        38.98      1.39       0       0         0       0         1        0   \n",
       "3        39.79      2.80       0       0         1       0         0        0   \n",
       "4        43.30      2.00       0       0         0       0         0        1   \n",
       "\n",
       "   Wednesday  \n",
       "0          0  \n",
       "1          0  \n",
       "2          0  \n",
       "3          0  \n",
       "4          0  "
      ]
     },
     "execution_count": 275,
     "metadata": {},
     "output_type": "execute_result"
    }
   ],
   "source": [
    "taxi_train_data.head(5)"
   ]
  },
  {
   "cell_type": "code",
   "execution_count": 276,
   "metadata": {},
   "outputs": [
    {
     "data": {
      "text/html": [
       "<div>\n",
       "<style scoped>\n",
       "    .dataframe tbody tr th:only-of-type {\n",
       "        vertical-align: middle;\n",
       "    }\n",
       "\n",
       "    .dataframe tbody tr th {\n",
       "        vertical-align: top;\n",
       "    }\n",
       "\n",
       "    .dataframe thead th {\n",
       "        text-align: right;\n",
       "    }\n",
       "</style>\n",
       "<table border=\"1\" class=\"dataframe\">\n",
       "  <thead>\n",
       "    <tr style=\"text-align: right;\">\n",
       "      <th></th>\n",
       "      <th>key</th>\n",
       "      <th>passenger_count</th>\n",
       "      <th>pickup_time</th>\n",
       "      <th>pickup_month</th>\n",
       "      <th>pickup_lga</th>\n",
       "      <th>dropoff_lga</th>\n",
       "      <th>pickup_jfk</th>\n",
       "      <th>dropoff_jfk</th>\n",
       "      <th>pickup_ewr</th>\n",
       "      <th>dropoff_ewr</th>\n",
       "      <th>distance</th>\n",
       "      <th>Friday</th>\n",
       "      <th>Monday</th>\n",
       "      <th>Saturday</th>\n",
       "      <th>Sunday</th>\n",
       "      <th>Thursday</th>\n",
       "      <th>Tuesday</th>\n",
       "      <th>Wednesday</th>\n",
       "    </tr>\n",
       "  </thead>\n",
       "  <tbody>\n",
       "    <tr>\n",
       "      <th>0</th>\n",
       "      <td>2015-01-27 13:08:24.0000002</td>\n",
       "      <td>1</td>\n",
       "      <td>1308</td>\n",
       "      <td>1</td>\n",
       "      <td>51.06</td>\n",
       "      <td>3.91</td>\n",
       "      <td>60.85</td>\n",
       "      <td>59.82</td>\n",
       "      <td>40.78</td>\n",
       "      <td>38.46</td>\n",
       "      <td>2.32</td>\n",
       "      <td>0</td>\n",
       "      <td>0</td>\n",
       "      <td>0</td>\n",
       "      <td>0</td>\n",
       "      <td>0</td>\n",
       "      <td>1</td>\n",
       "      <td>0</td>\n",
       "    </tr>\n",
       "    <tr>\n",
       "      <th>1</th>\n",
       "      <td>2015-01-27 13:08:24.0000003</td>\n",
       "      <td>1</td>\n",
       "      <td>1308</td>\n",
       "      <td>1</td>\n",
       "      <td>48.86</td>\n",
       "      <td>2.86</td>\n",
       "      <td>58.37</td>\n",
       "      <td>60.58</td>\n",
       "      <td>35.71</td>\n",
       "      <td>37.60</td>\n",
       "      <td>2.43</td>\n",
       "      <td>0</td>\n",
       "      <td>0</td>\n",
       "      <td>0</td>\n",
       "      <td>0</td>\n",
       "      <td>0</td>\n",
       "      <td>1</td>\n",
       "      <td>0</td>\n",
       "    </tr>\n",
       "    <tr>\n",
       "      <th>2</th>\n",
       "      <td>2011-10-08 11:53:44.0000002</td>\n",
       "      <td>1</td>\n",
       "      <td>1153</td>\n",
       "      <td>10</td>\n",
       "      <td>50.74</td>\n",
       "      <td>4.21</td>\n",
       "      <td>60.45</td>\n",
       "      <td>59.89</td>\n",
       "      <td>39.23</td>\n",
       "      <td>38.75</td>\n",
       "      <td>0.62</td>\n",
       "      <td>0</td>\n",
       "      <td>0</td>\n",
       "      <td>1</td>\n",
       "      <td>0</td>\n",
       "      <td>0</td>\n",
       "      <td>0</td>\n",
       "      <td>0</td>\n",
       "    </tr>\n",
       "    <tr>\n",
       "      <th>3</th>\n",
       "      <td>2012-12-01 21:12:12.0000002</td>\n",
       "      <td>1</td>\n",
       "      <td>2112</td>\n",
       "      <td>12</td>\n",
       "      <td>51.85</td>\n",
       "      <td>4.38</td>\n",
       "      <td>61.64</td>\n",
       "      <td>60.97</td>\n",
       "      <td>41.04</td>\n",
       "      <td>39.11</td>\n",
       "      <td>1.96</td>\n",
       "      <td>0</td>\n",
       "      <td>0</td>\n",
       "      <td>1</td>\n",
       "      <td>0</td>\n",
       "      <td>0</td>\n",
       "      <td>0</td>\n",
       "      <td>0</td>\n",
       "    </tr>\n",
       "    <tr>\n",
       "      <th>4</th>\n",
       "      <td>2012-12-01 21:12:12.0000003</td>\n",
       "      <td>1</td>\n",
       "      <td>2112</td>\n",
       "      <td>12</td>\n",
       "      <td>52.57</td>\n",
       "      <td>3.69</td>\n",
       "      <td>62.49</td>\n",
       "      <td>60.31</td>\n",
       "      <td>43.73</td>\n",
       "      <td>38.37</td>\n",
       "      <td>5.39</td>\n",
       "      <td>0</td>\n",
       "      <td>0</td>\n",
       "      <td>1</td>\n",
       "      <td>0</td>\n",
       "      <td>0</td>\n",
       "      <td>0</td>\n",
       "      <td>0</td>\n",
       "    </tr>\n",
       "  </tbody>\n",
       "</table>\n",
       "</div>"
      ],
      "text/plain": [
       "                           key  passenger_count  pickup_time  pickup_month  \\\n",
       "0  2015-01-27 13:08:24.0000002                1         1308             1   \n",
       "1  2015-01-27 13:08:24.0000003                1         1308             1   \n",
       "2  2011-10-08 11:53:44.0000002                1         1153            10   \n",
       "3  2012-12-01 21:12:12.0000002                1         2112            12   \n",
       "4  2012-12-01 21:12:12.0000003                1         2112            12   \n",
       "\n",
       "   pickup_lga  dropoff_lga  pickup_jfk  dropoff_jfk  pickup_ewr  dropoff_ewr  \\\n",
       "0       51.06         3.91       60.85        59.82       40.78        38.46   \n",
       "1       48.86         2.86       58.37        60.58       35.71        37.60   \n",
       "2       50.74         4.21       60.45        59.89       39.23        38.75   \n",
       "3       51.85         4.38       61.64        60.97       41.04        39.11   \n",
       "4       52.57         3.69       62.49        60.31       43.73        38.37   \n",
       "\n",
       "   distance  Friday  Monday  Saturday  Sunday  Thursday  Tuesday  Wednesday  \n",
       "0      2.32       0       0         0       0         0        1          0  \n",
       "1      2.43       0       0         0       0         0        1          0  \n",
       "2      0.62       0       0         1       0         0        0          0  \n",
       "3      1.96       0       0         1       0         0        0          0  \n",
       "4      5.39       0       0         1       0         0        0          0  "
      ]
     },
     "execution_count": 276,
     "metadata": {},
     "output_type": "execute_result"
    }
   ],
   "source": [
    "taxi_test_data.head(5)"
   ]
  },
  {
   "cell_type": "code",
   "execution_count": 277,
   "metadata": {},
   "outputs": [],
   "source": [
    "taxi_train_data.to_csv('train_taxi2.csv')\n",
    "taxi_test_data.to_csv('test_taxi2.csv')"
   ]
  },
  {
   "cell_type": "markdown",
   "metadata": {},
   "source": [
    "Загрузка обработанных данных"
   ]
  },
  {
   "cell_type": "code",
   "execution_count": 278,
   "metadata": {},
   "outputs": [],
   "source": [
    "taxi_train_data = pd.read_csv('train_taxi2.csv', nrows = 200000)\n",
    "taxi_test_data = pd.read_csv('test_taxi2.csv')"
   ]
  },
  {
   "cell_type": "code",
   "execution_count": 70,
   "metadata": {},
   "outputs": [],
   "source": [
    "# def is_airport(x):\n",
    "#     if x <= 4:\n",
    "#         return 1\n",
    "#     else:\n",
    "#         return 0"
   ]
  },
  {
   "cell_type": "code",
   "execution_count": 71,
   "metadata": {},
   "outputs": [],
   "source": [
    "# taxi_train_data['pickup_lga'] = taxi_train_data['pickup_lga'].apply(is_airport)\n",
    "# taxi_train_data['dropoff_lga'] = taxi_train_data['dropoff_lga'].apply(is_airport)\n",
    "# taxi_train_data['pickup_jfk'] = taxi_train_data['pickup_jfk'].apply(is_airport)\n",
    "# taxi_train_data['dropoff_jfk'] = taxi_train_data['dropoff_jfk'].apply(is_airport)\n",
    "# taxi_train_data['pickup_ewr'] = taxi_train_data['pickup_ewr'].apply(is_airport)\n",
    "# taxi_train_data['dropoff_ewr'] = taxi_train_data['dropoff_ewr'].apply(is_airport)"
   ]
  },
  {
   "cell_type": "code",
   "execution_count": 72,
   "metadata": {},
   "outputs": [],
   "source": [
    "# taxi_test_data['pickup_lga'] = taxi_test_data['pickup_lga'].apply(is_airport)\n",
    "# taxi_test_data['dropoff_lga'] = taxi_test_data['dropoff_lga'].apply(is_airport)\n",
    "# taxi_test_data['pickup_jfk'] = taxi_test_data['pickup_jfk'].apply(is_airport)\n",
    "# taxi_test_data['dropoff_jfk'] = taxi_test_data['dropoff_jfk'].apply(is_airport)\n",
    "# taxi_test_data['pickup_ewr'] = taxi_test_data['pickup_ewr'].apply(is_airport)\n",
    "# taxi_test_data['dropoff_ewr'] = taxi_test_data['dropoff_ewr'].apply(is_airport)"
   ]
  },
  {
   "cell_type": "markdown",
   "metadata": {},
   "source": [
    "Обучение модели"
   ]
  },
  {
   "cell_type": "code",
   "execution_count": 279,
   "metadata": {},
   "outputs": [],
   "source": [
    "from sklearn.linear_model import LinearRegression\n",
    "from sklearn.model_selection import train_test_split\n",
    "from sklearn.metrics import r2_score, mean_squared_error"
   ]
  },
  {
   "cell_type": "code",
   "execution_count": 280,
   "metadata": {},
   "outputs": [],
   "source": [
    "X = taxi_train_data.copy()\n",
    "y = taxi_train_data['fare_amount']\n",
    "del X['key'], X['fare_amount']\n",
    "Xtrain, Xtest, ytrain, ytest = train_test_split(X, y, test_size = 0.05, random_state = 12345)"
   ]
  },
  {
   "cell_type": "code",
   "execution_count": 281,
   "metadata": {},
   "outputs": [
    {
     "data": {
      "text/plain": [
       "array([[-1.35026078, -0.52773674, -0.64997493, ..., -0.41862637,\n",
       "        -0.40232614, -0.412609  ],\n",
       "       [-1.3155957 ,  0.23840816,  1.16963157, ..., -0.41862637,\n",
       "        -0.40232614, -0.412609  ],\n",
       "       [ 0.52662519,  0.23840816,  0.49650011, ..., -0.41862637,\n",
       "        -0.40232614, -0.412609  ],\n",
       "       ...,\n",
       "       [ 1.52295041, -0.52773674, -0.73603739, ..., -0.41862637,\n",
       "        -0.40232614, -0.412609  ],\n",
       "       [ 1.03993898, -0.52773674,  0.10153485, ...,  2.38876494,\n",
       "        -0.40232614, -0.412609  ],\n",
       "       [-1.57534709,  0.23840816,  0.5318472 , ..., -0.41862637,\n",
       "         2.48554567, -0.412609  ]])"
      ]
     },
     "execution_count": 281,
     "metadata": {},
     "output_type": "execute_result"
    }
   ],
   "source": [
    "from sklearn.preprocessing import StandardScaler\n",
    "\n",
    "scaler = StandardScaler()\n",
    "scaler.fit(Xtrain)\n",
    "\n",
    "Xtrain = scaler.transform(Xtrain)\n",
    "Xtest = scaler.transform(Xtest)\n",
    "\n",
    "Xtest"
   ]
  },
  {
   "cell_type": "markdown",
   "metadata": {},
   "source": [
    "### Линейная регрессия"
   ]
  },
  {
   "cell_type": "code",
   "execution_count": 284,
   "metadata": {},
   "outputs": [
    {
     "name": "stdout",
     "output_type": "stream",
     "text": [
      "[ 8.96189044  7.83365558  7.43015216 ... 10.47058795  7.58454059\n",
      " 23.67569659]\n"
     ]
    }
   ],
   "source": [
    "lin_regressor = LinearRegression()\n",
    "lin_regressor.fit(Xtrain, ytrain)\n",
    "\n",
    "ypred = lin_regressor.predict(Xtest)\n",
    "print(ypred)"
   ]
  },
  {
   "cell_type": "code",
   "execution_count": 285,
   "metadata": {},
   "outputs": [
    {
     "name": "stdout",
     "output_type": "stream",
     "text": [
      "0.6658793961267122\n"
     ]
    }
   ],
   "source": [
    "print(lin_regressor.score(Xtest,ytest))"
   ]
  },
  {
   "cell_type": "code",
   "execution_count": 286,
   "metadata": {},
   "outputs": [
    {
     "name": "stdout",
     "output_type": "stream",
     "text": [
      "97.35031817633211\n"
     ]
    }
   ],
   "source": [
    "print(max(ypred))"
   ]
  },
  {
   "cell_type": "code",
   "execution_count": 287,
   "metadata": {},
   "outputs": [
    {
     "data": {
      "text/plain": [
       "(0.6658793961267122, 32.495833760457906)"
      ]
     },
     "execution_count": 287,
     "metadata": {},
     "output_type": "execute_result"
    }
   ],
   "source": [
    "r2_score(ytest, ypred), mean_squared_error(ytest, ypred)"
   ]
  },
  {
   "cell_type": "code",
   "execution_count": 288,
   "metadata": {},
   "outputs": [
    {
     "data": {
      "text/plain": [
       "(11.319739563050852,\n",
       " array([ 8.86334993e-03,  6.84328168e-02,  2.26451207e-02,  1.66886069e-01,\n",
       "        -2.13048580e+03,  3.43484013e+02,  1.96923097e+03,  1.34852636e+02,\n",
       "        -4.25409038e+01, -2.74505296e+02,  5.88909856e+00,  2.12689153e+11,\n",
       "         1.96868647e+11,  2.10477701e+11,  1.97985542e+11,  2.09236580e+11,\n",
       "         2.03405482e+11,  2.07110455e+11]))"
      ]
     },
     "execution_count": 288,
     "metadata": {},
     "output_type": "execute_result"
    }
   ],
   "source": [
    "lin_regressor.intercept_, lin_regressor.coef_"
   ]
  },
  {
   "cell_type": "code",
   "execution_count": 289,
   "metadata": {},
   "outputs": [
    {
     "data": {
      "text/html": [
       "<div>\n",
       "<style scoped>\n",
       "    .dataframe tbody tr th:only-of-type {\n",
       "        vertical-align: middle;\n",
       "    }\n",
       "\n",
       "    .dataframe tbody tr th {\n",
       "        vertical-align: top;\n",
       "    }\n",
       "\n",
       "    .dataframe thead th {\n",
       "        text-align: right;\n",
       "    }\n",
       "</style>\n",
       "<table border=\"1\" class=\"dataframe\">\n",
       "  <thead>\n",
       "    <tr style=\"text-align: right;\">\n",
       "      <th></th>\n",
       "      <th>0</th>\n",
       "      <th>0</th>\n",
       "    </tr>\n",
       "  </thead>\n",
       "  <tbody>\n",
       "    <tr>\n",
       "      <th>0</th>\n",
       "      <td>Unnamed: 0</td>\n",
       "      <td>8.863350e-03</td>\n",
       "    </tr>\n",
       "    <tr>\n",
       "      <th>1</th>\n",
       "      <td>passenger_count</td>\n",
       "      <td>6.843282e-02</td>\n",
       "    </tr>\n",
       "    <tr>\n",
       "      <th>2</th>\n",
       "      <td>pickup_time</td>\n",
       "      <td>2.264512e-02</td>\n",
       "    </tr>\n",
       "    <tr>\n",
       "      <th>3</th>\n",
       "      <td>pickup_month</td>\n",
       "      <td>1.668861e-01</td>\n",
       "    </tr>\n",
       "    <tr>\n",
       "      <th>4</th>\n",
       "      <td>pickup_lga</td>\n",
       "      <td>-2.130486e+03</td>\n",
       "    </tr>\n",
       "    <tr>\n",
       "      <th>5</th>\n",
       "      <td>dropoff_lga</td>\n",
       "      <td>3.434840e+02</td>\n",
       "    </tr>\n",
       "    <tr>\n",
       "      <th>6</th>\n",
       "      <td>pickup_jfk</td>\n",
       "      <td>1.969231e+03</td>\n",
       "    </tr>\n",
       "    <tr>\n",
       "      <th>7</th>\n",
       "      <td>dropoff_jfk</td>\n",
       "      <td>1.348526e+02</td>\n",
       "    </tr>\n",
       "    <tr>\n",
       "      <th>8</th>\n",
       "      <td>pickup_ewr</td>\n",
       "      <td>-4.254090e+01</td>\n",
       "    </tr>\n",
       "    <tr>\n",
       "      <th>9</th>\n",
       "      <td>dropoff_ewr</td>\n",
       "      <td>-2.745053e+02</td>\n",
       "    </tr>\n",
       "    <tr>\n",
       "      <th>10</th>\n",
       "      <td>distance</td>\n",
       "      <td>5.889099e+00</td>\n",
       "    </tr>\n",
       "    <tr>\n",
       "      <th>11</th>\n",
       "      <td>Friday</td>\n",
       "      <td>2.126892e+11</td>\n",
       "    </tr>\n",
       "    <tr>\n",
       "      <th>12</th>\n",
       "      <td>Monday</td>\n",
       "      <td>1.968686e+11</td>\n",
       "    </tr>\n",
       "    <tr>\n",
       "      <th>13</th>\n",
       "      <td>Saturday</td>\n",
       "      <td>2.104777e+11</td>\n",
       "    </tr>\n",
       "    <tr>\n",
       "      <th>14</th>\n",
       "      <td>Sunday</td>\n",
       "      <td>1.979855e+11</td>\n",
       "    </tr>\n",
       "    <tr>\n",
       "      <th>15</th>\n",
       "      <td>Thursday</td>\n",
       "      <td>2.092366e+11</td>\n",
       "    </tr>\n",
       "    <tr>\n",
       "      <th>16</th>\n",
       "      <td>Tuesday</td>\n",
       "      <td>2.034055e+11</td>\n",
       "    </tr>\n",
       "    <tr>\n",
       "      <th>17</th>\n",
       "      <td>Wednesday</td>\n",
       "      <td>2.071105e+11</td>\n",
       "    </tr>\n",
       "  </tbody>\n",
       "</table>\n",
       "</div>"
      ],
      "text/plain": [
       "                  0             0\n",
       "0        Unnamed: 0  8.863350e-03\n",
       "1   passenger_count  6.843282e-02\n",
       "2       pickup_time  2.264512e-02\n",
       "3      pickup_month  1.668861e-01\n",
       "4        pickup_lga -2.130486e+03\n",
       "5       dropoff_lga  3.434840e+02\n",
       "6        pickup_jfk  1.969231e+03\n",
       "7       dropoff_jfk  1.348526e+02\n",
       "8        pickup_ewr -4.254090e+01\n",
       "9       dropoff_ewr -2.745053e+02\n",
       "10         distance  5.889099e+00\n",
       "11           Friday  2.126892e+11\n",
       "12           Monday  1.968686e+11\n",
       "13         Saturday  2.104777e+11\n",
       "14           Sunday  1.979855e+11\n",
       "15         Thursday  2.092366e+11\n",
       "16          Tuesday  2.034055e+11\n",
       "17        Wednesday  2.071105e+11"
      ]
     },
     "execution_count": 289,
     "metadata": {},
     "output_type": "execute_result"
    }
   ],
   "source": [
    "coefficients = pd.concat([pd.DataFrame(X.columns),pd.DataFrame(np.transpose(lin_regressor.coef_))], axis = 1)\n",
    "coefficients"
   ]
  },
  {
   "cell_type": "markdown",
   "metadata": {},
   "source": [
    "Обучим тестовые данные для Kaggle"
   ]
  },
  {
   "cell_type": "code",
   "execution_count": 290,
   "metadata": {},
   "outputs": [],
   "source": [
    "Xtest_kaggle = taxi_test_data.copy()\n",
    "\n",
    "del Xtest_kaggle['key']"
   ]
  },
  {
   "cell_type": "code",
   "execution_count": 291,
   "metadata": {},
   "outputs": [],
   "source": [
    "Xtest_kaggle = scaler.transform(Xtest_kaggle)"
   ]
  },
  {
   "cell_type": "code",
   "execution_count": 292,
   "metadata": {},
   "outputs": [
    {
     "data": {
      "text/plain": [
       "array([[-1.73144142, -0.52773674, -0.11208449, ..., -0.41862637,\n",
       "         2.48554567, -0.412609  ],\n",
       "       [-1.73142451, -0.52773674, -0.11208449, ..., -0.41862637,\n",
       "         2.48554567, -0.412609  ],\n",
       "       [-1.7314076 , -0.52773674, -0.35029311, ..., -0.41862637,\n",
       "        -0.40232614, -0.412609  ],\n",
       "       ...,\n",
       "       [-1.56384842,  3.30298776,  1.01902225, ..., -0.41862637,\n",
       "        -0.40232614, -0.412609  ],\n",
       "       [-1.56383151,  3.30298776, -1.96089075, ..., -0.41862637,\n",
       "        -0.40232614, -0.412609  ],\n",
       "       [-1.5638146 ,  3.30298776,  0.03852483, ..., -0.41862637,\n",
       "        -0.40232614, -0.412609  ]])"
      ]
     },
     "execution_count": 292,
     "metadata": {},
     "output_type": "execute_result"
    }
   ],
   "source": [
    "Xtest_kaggle"
   ]
  },
  {
   "cell_type": "code",
   "execution_count": 293,
   "metadata": {},
   "outputs": [],
   "source": [
    "ypred_kaggle = np.round(lin_regressor.predict(Xtest_kaggle), 2)"
   ]
  },
  {
   "cell_type": "code",
   "execution_count": 294,
   "metadata": {},
   "outputs": [
    {
     "data": {
      "text/plain": [
       "array([ 8.56,  8.68,  6.53, ..., 40.21, 19.  ,  7.71])"
      ]
     },
     "execution_count": 294,
     "metadata": {},
     "output_type": "execute_result"
    }
   ],
   "source": [
    "ypred_kaggle"
   ]
  },
  {
   "cell_type": "code",
   "execution_count": 295,
   "metadata": {},
   "outputs": [],
   "source": [
    "subm_output = pd.DataFrame({'key': taxi_test_data['key'], 'fare_amount': ypred_kaggle})\n",
    "subm_output.to_csv('submission_lr_200.csv', index=False)"
   ]
  },
  {
   "cell_type": "markdown",
   "metadata": {},
   "source": [
    "### Метод k-ближайших соседей"
   ]
  },
  {
   "cell_type": "code",
   "execution_count": 296,
   "metadata": {},
   "outputs": [],
   "source": [
    "from sklearn.neighbors import KNeighborsRegressor"
   ]
  },
  {
   "cell_type": "code",
   "execution_count": 178,
   "metadata": {},
   "outputs": [
    {
     "data": {
      "text/plain": [
       "KNeighborsRegressor(algorithm='auto', leaf_size=30, metric='minkowski',\n",
       "          metric_params=None, n_jobs=1, n_neighbors=5, p=2,\n",
       "          weights='uniform')"
      ]
     },
     "execution_count": 178,
     "metadata": {},
     "output_type": "execute_result"
    }
   ],
   "source": [
    "# kreg = KNeighborsRegressor()\n",
    "# kreg.fit(Xtrain, ytrain)"
   ]
  },
  {
   "cell_type": "code",
   "execution_count": 179,
   "metadata": {},
   "outputs": [],
   "source": [
    "# ypred_reg = kreg.predict(Xtest)"
   ]
  },
  {
   "cell_type": "code",
   "execution_count": 180,
   "metadata": {},
   "outputs": [
    {
     "data": {
      "text/plain": [
       "(0.7317703951534738, 24.136504278)"
      ]
     },
     "execution_count": 180,
     "metadata": {},
     "output_type": "execute_result"
    }
   ],
   "source": [
    "# r2_score(ytest, ypred_reg), mean_squared_error(ytest, ypred_reg)"
   ]
  },
  {
   "cell_type": "code",
   "execution_count": 307,
   "metadata": {},
   "outputs": [],
   "source": [
    "Xtest_kaggle_kn = taxi_test_data.copy()\n",
    "\n",
    "del Xtest_kaggle_kn['key']"
   ]
  },
  {
   "cell_type": "code",
   "execution_count": 308,
   "metadata": {},
   "outputs": [],
   "source": [
    "Xtest_kaggle_kn = scaler.transform(Xtest_kaggle_kn)"
   ]
  },
  {
   "cell_type": "code",
   "execution_count": 183,
   "metadata": {},
   "outputs": [],
   "source": [
    "# ypred_kaggle2 = np.round(kreg.predict(Xtest_kaggle_kn), 2)"
   ]
  },
  {
   "cell_type": "code",
   "execution_count": 184,
   "metadata": {},
   "outputs": [],
   "source": [
    "# subm_output = pd.DataFrame({'key': taxi_test_data['key'], 'fare_amount': ypred_kaggle2})\n",
    "# subm_output.to_csv('submission_kn_200.csv', index=False)"
   ]
  },
  {
   "cell_type": "code",
   "execution_count": 136,
   "metadata": {},
   "outputs": [],
   "source": [
    "# from sklearn.model_selection import GridSearchCV"
   ]
  },
  {
   "cell_type": "code",
   "execution_count": 185,
   "metadata": {},
   "outputs": [],
   "source": [
    "# params = {'n_neighbors' : np.arange(2, 20, 1)}\n",
    "\n",
    "# gs = GridSearchCV(kreg, params, cv=3, scoring='neg_mean_squared_error', n_jobs=-1)\n",
    "# gs.fit(X, y)"
   ]
  },
  {
   "cell_type": "code",
   "execution_count": null,
   "metadata": {},
   "outputs": [],
   "source": [
    "# gs.best_params_, gs.best_score_"
   ]
  },
  {
   "cell_type": "code",
   "execution_count": null,
   "metadata": {},
   "outputs": [],
   "source": [
    "# from sklearn.model_selection import cross_val_score\n",
    "# from sklearn.preprocessing import PolynomialFeatures\n",
    "# from sklearn.pipeline import Pipeline\n",
    "# knn_pipe = Pipeline([('features', PolynomialFeatures(degree=2)), \\\n",
    "#                       ('scaler', StandardScaler()), \\\n",
    "#                       ('knn', KNeighborsRegressor())])"
   ]
  },
  {
   "cell_type": "code",
   "execution_count": null,
   "metadata": {},
   "outputs": [],
   "source": [
    "# params = {'knn__n_neighbors' : np.arange(2, 20, 1)}\n",
    "\n",
    "# gs = GridSearchCV(knn_pipe, params, cv=3, scoring='neg_mean_squared_error', n_jobs=-1)\n",
    "# gs.fit(X, y)"
   ]
  },
  {
   "cell_type": "code",
   "execution_count": null,
   "metadata": {},
   "outputs": [],
   "source": [
    "# gs.best_params_, gs.best_score_"
   ]
  },
  {
   "cell_type": "code",
   "execution_count": 303,
   "metadata": {},
   "outputs": [
    {
     "data": {
      "text/plain": [
       "KNeighborsRegressor(algorithm='auto', leaf_size=30, metric='minkowski',\n",
       "          metric_params=None, n_jobs=1, n_neighbors=10, p=2,\n",
       "          weights='uniform')"
      ]
     },
     "execution_count": 303,
     "metadata": {},
     "output_type": "execute_result"
    }
   ],
   "source": [
    "kreg = KNeighborsRegressor(n_neighbors = 10)\n",
    "kreg.fit(Xtrain, ytrain)\n"
   ]
  },
  {
   "cell_type": "code",
   "execution_count": 304,
   "metadata": {},
   "outputs": [],
   "source": [
    "ypred_reg = kreg.predict(Xtest)"
   ]
  },
  {
   "cell_type": "code",
   "execution_count": 305,
   "metadata": {},
   "outputs": [
    {
     "data": {
      "text/plain": [
       "(0.7235480196480337, 26.887110498800002)"
      ]
     },
     "execution_count": 305,
     "metadata": {},
     "output_type": "execute_result"
    }
   ],
   "source": [
    "r2_score(ytest, ypred_reg), mean_squared_error(ytest, ypred_reg)"
   ]
  },
  {
   "cell_type": "code",
   "execution_count": 309,
   "metadata": {},
   "outputs": [],
   "source": [
    "ypred_kaggle3 = np.round(kreg.predict(Xtest_kaggle_kn), 2)"
   ]
  },
  {
   "cell_type": "code",
   "execution_count": 310,
   "metadata": {},
   "outputs": [],
   "source": [
    "subm_output = pd.DataFrame({'key': taxi_test_data['key'], 'fare_amount': ypred_kaggle3})\n",
    "subm_output.to_csv('submission_kn200_16.csv', index=False)"
   ]
  },
  {
   "cell_type": "markdown",
   "metadata": {},
   "source": [
    "### Случайные деревья"
   ]
  },
  {
   "cell_type": "code",
   "execution_count": 311,
   "metadata": {},
   "outputs": [],
   "source": [
    "from sklearn.ensemble import RandomForestRegressor\n",
    "rand_for = RandomForestRegressor(n_estimators=100, max_features ='sqrt')"
   ]
  },
  {
   "cell_type": "code",
   "execution_count": 312,
   "metadata": {},
   "outputs": [
    {
     "data": {
      "text/plain": [
       "RandomForestRegressor(bootstrap=True, criterion='mse', max_depth=None,\n",
       "           max_features='sqrt', max_leaf_nodes=None,\n",
       "           min_impurity_decrease=0.0, min_impurity_split=None,\n",
       "           min_samples_leaf=1, min_samples_split=2,\n",
       "           min_weight_fraction_leaf=0.0, n_estimators=100, n_jobs=1,\n",
       "           oob_score=False, random_state=None, verbose=0, warm_start=False)"
      ]
     },
     "execution_count": 312,
     "metadata": {},
     "output_type": "execute_result"
    }
   ],
   "source": [
    "rand_for.fit(Xtrain, ytrain)"
   ]
  },
  {
   "cell_type": "code",
   "execution_count": 313,
   "metadata": {},
   "outputs": [],
   "source": [
    "ypred_rа = rand_for.predict(Xtest)"
   ]
  },
  {
   "cell_type": "code",
   "execution_count": 314,
   "metadata": {},
   "outputs": [
    {
     "data": {
      "text/plain": [
       "(0.8170541415475259, 17.792911106105997)"
      ]
     },
     "execution_count": 314,
     "metadata": {},
     "output_type": "execute_result"
    }
   ],
   "source": [
    "r2_score(ytest, ypred_rа), mean_squared_error(ytest, ypred_rа)"
   ]
  },
  {
   "cell_type": "code",
   "execution_count": 315,
   "metadata": {},
   "outputs": [],
   "source": [
    "ypred_kaggle4 = np.round(rand_for.predict(Xtest_kaggle_kn), 2)"
   ]
  },
  {
   "cell_type": "code",
   "execution_count": 316,
   "metadata": {},
   "outputs": [],
   "source": [
    "subm_output = pd.DataFrame({'key': taxi_test_data['key'], 'fare_amount': ypred_kaggle4})\n",
    "subm_output.to_csv('submission_ranfor_200.csv', index=False)"
   ]
  },
  {
   "cell_type": "code",
   "execution_count": null,
   "metadata": {},
   "outputs": [],
   "source": []
  }
 ],
 "metadata": {
  "kernelspec": {
   "display_name": "Python 3",
   "language": "python",
   "name": "python3"
  },
  "language_info": {
   "codemirror_mode": {
    "name": "ipython",
    "version": 3
   },
   "file_extension": ".py",
   "mimetype": "text/x-python",
   "name": "python",
   "nbconvert_exporter": "python",
   "pygments_lexer": "ipython3",
   "version": "3.6.5"
  }
 },
 "nbformat": 4,
 "nbformat_minor": 4
}
